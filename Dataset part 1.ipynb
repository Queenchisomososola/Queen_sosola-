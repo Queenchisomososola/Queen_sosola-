{
 "cells": [
  {
   "cell_type": "markdown",
   "id": "9cfba5cd",
   "metadata": {},
   "source": [
    "# COMPUTER VISION TASK:\n",
    "### TOMATO LEAF ILLNESS DETECTION\n",
    "The goal is to make a model that will be able to differentiate between healthy and unhealthy leaves in tomatoes."
   ]
  },
  {
   "cell_type": "markdown",
   "id": "4392dc7d",
   "metadata": {},
   "source": [
    "## DATA SET SOURCE:"
   ]
  },
  {
   "cell_type": "markdown",
   "id": "514f7824",
   "metadata": {},
   "source": [
    "URL = \"https://www.kaggle.com/datasets/paulrosero/tomato-leaf-illness-detection\":\n",
    "\n",
    "We downloaded the data set from kaggle"
   ]
  },
  {
   "cell_type": "markdown",
   "id": "fa22ebbe",
   "metadata": {},
   "source": [
    "## Choosing 40 images"
   ]
  },
  {
   "cell_type": "markdown",
   "id": "d77f7d3b",
   "metadata": {},
   "source": [
    "1. The donwloaded dataset has three folders, namely; train, test and valid each for traing data, testing data and validation data respectively.\n",
    "2. We make a new folder containing 40 images obtained from the three  folders at random\n",
    "3. we use the following code"
   ]
  },
  {
   "cell_type": "code",
   "execution_count": 17,
   "id": "32388dbd",
   "metadata": {},
   "outputs": [],
   "source": [
    "import os\n",
    "import shutil\n",
    "import random\n",
    "\n",
    "# Set the source folders and destination folder\n",
    "source_folders = ['dried_leaves', 'healthy_leaves', 'leaves_with_stains', 'leaves_yellow_stains']\n",
    "dest_folder = 'DATASET'\n",
    "\n",
    "# Set the number of images to select from each folder\n",
    "num_images = 10\n",
    "\n",
    "# Create the destination folder if it doesn't exist\n",
    "if not os.path.exists(dest_folder):\n",
    "    os.makedirs(dest_folder)\n",
    "\n",
    "# Iterate through the source folders and select 10 images at random from each folder\n",
    "for folder in source_folders:\n",
    "    image_files = [f for f in os.listdir(folder) if f.endswith('.jpg') or f.endswith('.png')]\n",
    "    selected_images = random.sample(image_files, num_images)\n",
    "    \n",
    "    # Copy the selected images to the destination folder\n",
    "    for image in selected_images:\n",
    "        shutil.copy(os.path.join(folder, image), dest_folder)"
   ]
  },
  {
   "cell_type": "markdown",
   "id": "7804540c",
   "metadata": {},
   "source": [
    "## PREPROCCESSING DATA:"
   ]
  },
  {
   "cell_type": "markdown",
   "id": "f8ac1b86",
   "metadata": {},
   "source": [
    "Resizing- we resized all images in the dataset by 230*230 pixels. Resizing ensures that all images in the dataset have same dimensions. This uniformity simplifies data preprocessing and model training, as the model does not have to handle images of different sizes\n",
    "\n"
   ]
  },
  {
   "cell_type": "markdown",
   "id": "b0b6c297",
   "metadata": {},
   "source": [
    "## FEATURE ENGINEERING TECHNIQUES"
   ]
  },
  {
   "cell_type": "markdown",
   "id": "26e132d5",
   "metadata": {},
   "source": [
    "We performed two feature engineering techniques on the data:\n",
    "1. Resizing to a smaller dimension(300x300)\n",
    "2. converted to gray scale"
   ]
  },
  {
   "cell_type": "code",
   "execution_count": 1,
   "id": "15bd1000",
   "metadata": {},
   "outputs": [],
   "source": [
    "from PIL import Image\n",
    "import os\n",
    "\n",
    "# Input and output folders\n",
    "input_folder = 'DATASET'\n",
    "output_folder = 'Feature_eng'\n",
    "\n",
    "# Resizing and converting to grayscale\n",
    "def process_image(input_path, output_path, size):\n",
    "    image = Image.open(input_path)\n",
    "    # Resize the image\n",
    "    image = image.resize(size)\n",
    "    # Convert to grayscale\n",
    "    image = image.convert('L')\n",
    "    # Save the processed image\n",
    "    image.save(output_path)\n",
    "\n",
    "# Iterate through the files in the input folder\n",
    "for filename in os.listdir(input_folder):\n",
    "    if filename.endswith(\".jpg\") or filename.endswith(\".png\"):\n",
    "        input_path = os.path.join(input_folder, filename)\n",
    "        output_path = os.path.join(output_folder, filename)\n",
    "        # Define the size for resizing\n",
    "        size = (300, 300)  # Example size\n",
    "        process_image(input_path, output_path, size)"
   ]
  },
  {
   "cell_type": "markdown",
   "id": "8e0c461d",
   "metadata": {},
   "source": [
    "## LABEL CREATION"
   ]
  },
  {
   "cell_type": "markdown",
   "id": "627e83d1",
   "metadata": {},
   "source": [
    "We used labelimg software for annotation and labelling the leaves.We installed it using pip in Anaconda prompt.The label img converts data automatically into pascal voc(.xml) format."
   ]
  },
  {
   "cell_type": "markdown",
   "id": "ebc6bef8",
   "metadata": {},
   "source": [
    "## Challenges and solutions"
   ]
  },
  {
   "cell_type": "markdown",
   "id": "595b330e",
   "metadata": {},
   "source": [
    "### Challenges"
   ]
  },
  {
   "cell_type": "markdown",
   "id": "1e4c2376",
   "metadata": {},
   "source": [
    "1. challenges in using labelimg as it had recurring errors:\n",
    "OUr images were in the float format when Labelimg required them to be in the interger format resulting in an error\n"
   ]
  },
  {
   "cell_type": "markdown",
   "id": "760d5434",
   "metadata": {},
   "source": [
    "### Solutions"
   ]
  },
  {
   "cell_type": "markdown",
   "id": "eb1c7e36",
   "metadata": {},
   "source": [
    "1. manualy fixed errors in root code of labelimg.:\n",
    "We manually changed the format of our images from the float format into interger format hence resolving the errors\n"
   ]
  }
 ],
 "metadata": {
  "kernelspec": {
   "display_name": "Python 3 (ipykernel)",
   "language": "python",
   "name": "python3"
  },
  "language_info": {
   "codemirror_mode": {
    "name": "ipython",
    "version": 3
   },
   "file_extension": ".py",
   "mimetype": "text/x-python",
   "name": "python",
   "nbconvert_exporter": "python",
   "pygments_lexer": "ipython3",
   "version": "3.11.5"
  }
 },
 "nbformat": 4,
 "nbformat_minor": 5
}
