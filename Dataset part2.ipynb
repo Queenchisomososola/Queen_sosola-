{
 "cells": [
  {
   "cell_type": "markdown",
   "id": "f80d8121",
   "metadata": {},
   "source": [
    "# PROBLEM DOMAIN"
   ]
  },
  {
   "cell_type": "markdown",
   "id": "f09aef7d",
   "metadata": {},
   "source": [
    "Worldlife conservation and Management challenges"
   ]
  },
  {
   "cell_type": "markdown",
   "id": "058e0218",
   "metadata": {},
   "source": [
    "# Computer vision task "
   ]
  },
  {
   "cell_type": "markdown",
   "id": "7c1ba4f1",
   "metadata": {},
   "source": [
    "## Identifying wildlife animals from video or picture"
   ]
  },
  {
   "cell_type": "markdown",
   "id": "0f2a5e55",
   "metadata": {},
   "source": [
    "The model should be able to distinguish the variuos wildlife animals from each other"
   ]
  },
  {
   "cell_type": "markdown",
   "id": "4d454390",
   "metadata": {},
   "source": [
    "# collecting Images"
   ]
  },
  {
   "cell_type": "markdown",
   "id": "ca0ca9c5",
   "metadata": {},
   "source": [
    "We used Binge_image_downloader to scrape images from the web to be used to create the dataset"
   ]
  },
  {
   "cell_type": "code",
   "execution_count": 1,
   "id": "fb8f0ba1",
   "metadata": {},
   "outputs": [
    {
     "name": "stdout",
     "output_type": "stream",
     "text": [
      "[%] Downloading Images to C:\\Users\\HP\\Documents\\wildlife dataset\\Wildlife animals\n",
      "\n",
      "\n",
      "[!!]Indexing page: 1\n",
      "\n",
      "[%] Indexed 30 Images on Page 1.\n",
      "\n",
      "===============================================\n",
      "\n",
      "[%] Downloading Image #1 from http://wallpapercave.com/wp/guXn0ra.jpg\n",
      "[%] File Downloaded !\n",
      "\n",
      "[%] Downloading Image #2 from https://thewowstyle.com/wp-content/uploads/2015/01/animals-amazing-animal-stories-wildlife-photography-by-rudi-hulshof19.jpg\n",
      "[%] File Downloaded !\n",
      "\n",
      "[%] Downloading Image #3 from http://thewowstyle.com/wp-content/uploads/2015/01/Zuckerman_Wildlife_Photography_image02.jpg\n",
      "[%] File Downloaded !\n",
      "\n",
      "[%] Downloading Image #4 from https://pbs.twimg.com/media/D9a7rIzW4AEmKX4.jpg\n",
      "[%] File Downloaded !\n",
      "\n",
      "[%] Downloading Image #5 from http://4.bp.blogspot.com/-QNWITccYmPc/Tq0MkLlPS1I/AAAAAAAAC8k/bZ7f8048310/s1600/Blacktail_Deer_pictures_wallpapers_beautiful_animals_wildlife_forest_greens.jpg\n",
      "[%] File Downloaded !\n",
      "\n",
      "[%] Downloading Image #6 from https://journeysbydesign.com/wp-content/uploads/2017/01/Copyright_Beverly_Joubert_SelindaExploreres_Wildlife_Botswana_4539-e1564672207225.jpg\n",
      "[%] File Downloaded !\n",
      "\n",
      "[%] Downloading Image #7 from https://singita.com/wp-content/uploads/2018/11/sss_wildlife_1.jpg\n",
      "[%] File Downloaded !\n",
      "\n",
      "[%] Downloading Image #8 from http://4.bp.blogspot.com/-hVS_HIotmSw/UTDROy2d5nI/AAAAAAAAAyM/6OLXsNITJE8/s1600/Animals+1.jpeg\n",
      "[%] File Downloaded !\n",
      "\n",
      "[%] Downloading Image #9 from http://thewowstyle.com/wp-content/uploads/2015/01/Nature-wildlife-photography-22806244-2048-1363.jpg\n",
      "[%] File Downloaded !\n",
      "\n",
      "[%] Downloading Image #10 from https://www.pixelstalk.net/wp-content/uploads/2016/03/Cool-Wild-Animal-Wallpaper-For-Desktop.jpg\n",
      "[%] File Downloaded !\n",
      "\n",
      "[%] Downloading Image #11 from http://images5.fanpop.com/image/photos/25400000/Wildlife-wildlife-25479133-1280-1024.jpg\n",
      "[%] File Downloaded !\n",
      "\n",
      "[%] Downloading Image #12 from http://4.bp.blogspot.com/-HxmEz2kA7DA/Tq0NEL6qChI/AAAAAAAAC88/k77TJXx4KIw/s1600/deer_pictures_wallpapers_beautiful_animals_wildlife_forest_background.jpg\n",
      "[%] File Downloaded !\n",
      "\n",
      "[%] Downloading Image #13 from https://assets.hongkiat.com/uploads/50-amazing-wildlife-animal-wallpapers/sleeping-leapord.jpg?newedit\n",
      "[%] File Downloaded !\n",
      "\n",
      "[%] Downloading Image #14 from http://1.bp.blogspot.com/-E58jb4kJNZU/T-IHVHMIH4I/AAAAAAAAA48/CqVoVBjEdg4/s1600/hd_wild_animals_cheeta-other.jpg\n",
      "[%] File Downloaded !\n",
      "\n",
      "[%] Downloading Image #15 from http://wallup.net/wp-content/uploads/2016/01/214916-animals-wildlife-nature-jaguars.jpg\n",
      "[%] File Downloaded !\n",
      "\n",
      "[%] Downloading Image #16 from http://2.bp.blogspot.com/-gqYcI6dg0tM/UIDvhzEfKXI/AAAAAAAALrc/tha74Q404QU/s1600/Wildlife+Wallpapers+4.jpg\n",
      "[%] File Downloaded !\n",
      "\n",
      "[%] Downloading Image #17 from http://wallpapercave.com/wp/ZsUCrX6.jpg\n",
      "[%] File Downloaded !\n",
      "\n",
      "[%] Downloading Image #18 from http://architecturesideas.com/wp-content/uploads/2017/06/best-wildlife-photography-6.jpg\n",
      "[%] File Downloaded !\n",
      "\n",
      "[%] Downloading Image #19 from http://wallpapercave.com/wp/ERHEa58.jpg\n",
      "[%] File Downloaded !\n",
      "\n",
      "[%] Downloading Image #20 from https://wallup.net/wp-content/uploads/2016/01/207056-animals-wildlife-lion-nature.jpg\n",
      "[%] File Downloaded !\n",
      "\n",
      "[%] Downloading Image #21 from http://2.bp.blogspot.com/_irPxcWyLEmo/TRhqMNNyr-I/AAAAAAAAAGU/LbKe7ii5NSg/s1600/endangered-species.jpg\n",
      "[%] File Downloaded !\n",
      "\n",
      "[%] Downloading Image #22 from https://wallpapercave.com/wp/lN7Xw41.jpg\n",
      "[%] File Downloaded !\n",
      "\n",
      "[%] Downloading Image #23 from http://3.bp.blogspot.com/-aES7RwJjOEA/UxXNNinEnTI/AAAAAAAAMmg/dN7UubRg-7s/s1600/Wildlife_Animals_HD_Wallpapers.jpg\n",
      "[%] File Downloaded !\n",
      "\n",
      "[%] Downloading Image #24 from http://2.bp.blogspot.com/-nZF7C2lejjo/Tq0NHNaPsyI/AAAAAAAAC9E/seeKFCdxp-c/s1600/deer_pictures_wallpapers_beautiful_animals_wildlife_forest_cerf.jpg\n",
      "[%] File Downloaded !\n",
      "\n",
      "[%] Downloading Image #25 from https://dinoanimals.com/wp-content/uploads/2020/10/Animals.jpg\n",
      "[%] File Downloaded !\n",
      "\n",
      "[%] Downloading Image #26 from http://images2.fanpop.com/image/photos/13200000/Wildlife-the-animal-kingdom-13288126-1024-766.jpg\n",
      "[%] File Downloaded !\n",
      "\n",
      "[%] Downloading Image #27 from https://www.crushpixel.com/big-static15/preview4/large-group-african-safari-animals-1942728.jpg\n",
      "[%] File Downloaded !\n",
      "\n",
      "[%] Downloading Image #28 from http://2.bp.blogspot.com/-lFvJuFtgyZQ/UAHOihaz9PI/AAAAAAAAEDw/Btqbm8x_GHg/s1600/wildlife-wallpapers-4.jpg\n",
      "[%] File Downloaded !\n",
      "\n",
      "[%] Downloading Image #29 from https://www.highreshdwallpapers.com/wp-content/uploads/2014/03/Wildlife-Wallpaper.jpg\n",
      "[%] File Downloaded !\n",
      "\n",
      "[%] Downloading Image #30 from https://www.nationalgeographic.com/content/dam/animals/2018/09/waq-nuisance-animals/01-waq-nusiance-animals-nationalgeographic_1151601.ngsversion.1536316200961.adapt.1900.1.jpg\n",
      "[!] Issue getting: https://www.nationalgeographic.com/content/dam/animals/2018/09/waq-nuisance-animals/01-waq-nusiance-animals-nationalgeographic_1151601.ngsversion.1536316200961.adapt.1900.1.jpg\n",
      "[!] Error:: HTTP Error 404: Not Found\n",
      "\n",
      "\n",
      "[!!]Indexing page: 2\n",
      "\n",
      "[%] Indexed 35 Images on Page 2.\n",
      "\n",
      "===============================================\n",
      "\n",
      "[%] Downloading Image #30 from https://4.bp.blogspot.com/-DQgjuNuM6QU/TpJ4PbSNhTI/AAAAAAAABlA/n4BmrWC0cgk/s1600/Amazing-Wildlife-Photo-3.jpg\n",
      "[%] File Downloaded !\n",
      "\n",
      "\n",
      "\n",
      "[%] Done. Downloaded 30 images.\n"
     ]
    }
   ],
   "source": [
    "from bing_image_downloader import downloader\n",
    "\n",
    "downloader.download(\"Wildlife animals\", limit=30,  output_dir='wildlife dataset', adult_filter_off=True, force_replace=False, timeout=60, verbose=True)"
   ]
  },
  {
   "cell_type": "markdown",
   "id": "8b1d87ae",
   "metadata": {},
   "source": [
    "## Feature engineering"
   ]
  },
  {
   "cell_type": "markdown",
   "id": "d949129f",
   "metadata": {},
   "source": [
    "We performed two feature engineering techniques\n",
    "1. Image resizing\n",
    "2. Converting to gray scale"
   ]
  },
  {
   "cell_type": "markdown",
   "id": "4199b95e",
   "metadata": {},
   "source": [
    "### Resizing and converting to gray scale"
   ]
  },
  {
   "cell_type": "markdown",
   "id": "3ac60f82",
   "metadata": {},
   "source": [
    "## Labelling And Annotation"
   ]
  },
  {
   "cell_type": "code",
   "execution_count": 2,
   "id": "a9dba75e",
   "metadata": {},
   "outputs": [],
   "source": [
    "from PIL import Image\n",
    "import os\n",
    "\n",
    "# Input and output folders\n",
    "input_folder = 'wildlife animals'\n",
    "output_folder = 'Preprocessed'\n",
    "\n",
    "# Resizing and converting to grayscale\n",
    "def process_image(input_path, output_path, size):\n",
    "    image = Image.open(input_path)\n",
    "    # Resize the image\n",
    "    image = image.resize(size)\n",
    "    # Convert to grayscale\n",
    "    image = image.convert('L')\n",
    "    # Save the processed image\n",
    "    image.save(output_path)\n",
    "\n",
    "# Iterate through the files in the input folder\n",
    "for filename in os.listdir(input_folder):\n",
    "    if filename.endswith(\".jpg\") or filename.endswith(\".png\"):\n",
    "        input_path = os.path.join(input_folder, filename)\n",
    "        output_path = os.path.join(output_folder, filename)\n",
    "        # Define the size for resizing\n",
    "        size = (300, 300)  # Example size\n",
    "        process_image(input_path, output_path, size)"
   ]
  },
  {
   "cell_type": "markdown",
   "id": "eeeb119a",
   "metadata": {},
   "source": [
    "We used the labelimg software to manualy label and annotate each resized anda gray scaled image.We saved our image as a pascal voc format(.xml)"
   ]
  },
  {
   "cell_type": "markdown",
   "id": "54a19d4c",
   "metadata": {},
   "source": [
    "## Dataset Structuring"
   ]
  },
  {
   "cell_type": "markdown",
   "id": "030e4a54",
   "metadata": {},
   "source": [
    "1. We split our dat into three folders with each having atleast 10 images selected at random\n",
    "2. The first folder was named train meaning it is to be used as traing data\n",
    "3. Second folder was named valid meaning it is to be used as validation data\n",
    "4. The last folder was named test meaning it is to be used as testing data"
   ]
  },
  {
   "cell_type": "markdown",
   "id": "657d626f",
   "metadata": {},
   "source": [
    "Below is the code that performs dataset structuring"
   ]
  },
  {
   "cell_type": "code",
   "execution_count": 10,
   "id": "21636c1a",
   "metadata": {},
   "outputs": [],
   "source": [
    "import os\n",
    "import shutil\n",
    "import random\n",
    "\n",
    "# Set the source and destination folders\n",
    "source_folder = 'Final_set'\n",
    "folder1 = 'train'\n",
    "folder2 = 'C:/Users/HP/Documents/wildlife dataset/valid'\n",
    "folder3 = 'C:/Users/HP/Documents/wildlife dataset/test'\n",
    "\n",
    "# Get the list of images in the source folder\n",
    "image_files = [f for f in os.listdir(source_folder) if f.endswith('.xml') or f.endswith('.png')]\n",
    "\n",
    "# Randomize the order of the image files\n",
    "random.shuffle(image_files)\n",
    "\n",
    "# Split the image files into 3 parts\n",
    "split1 = 10\n",
    "split2 = 20\n",
    "split3 = 30\n",
    "\n",
    "# Put the images into three folders with no redundancy\n",
    "for i, image in enumerate(image_files):\n",
    "    if i < split1:\n",
    "        shutil.copy(os.path.join(source_folder, image), folder1)\n",
    "    elif split1 <= i < split2:\n",
    "        shutil.copy(os.path.join(source_folder, image), folder2)\n",
    "    else:\n",
    "        shutil.copy(os.path.join(source_folder, image), folder3)"
   ]
  },
  {
   "cell_type": "markdown",
   "id": "a35f2961",
   "metadata": {},
   "source": [
    "# Challenges and solutions"
   ]
  },
  {
   "cell_type": "markdown",
   "id": "6e7ee72d",
   "metadata": {},
   "source": [
    "## Challenges"
   ]
  },
  {
   "cell_type": "markdown",
   "id": "4e9817fa",
   "metadata": {},
   "source": [
    "1. labelling problems\n",
    "2. Challenges in proving the effectiveness of our dataset in a computer vision model"
   ]
  },
  {
   "cell_type": "markdown",
   "id": "120fd213",
   "metadata": {},
   "source": [
    "## Solutions"
   ]
  },
  {
   "cell_type": "markdown",
   "id": "c83b8032",
   "metadata": {},
   "source": [
    "1. manually fixed them\n",
    "We manually changed the format of our images from the float format into interger format hence resolving the errors\n",
    "2. We were unable to find an effective solution for our second problem"
   ]
  }
 ],
 "metadata": {
  "kernelspec": {
   "display_name": "Python 3 (ipykernel)",
   "language": "python",
   "name": "python3"
  },
  "language_info": {
   "codemirror_mode": {
    "name": "ipython",
    "version": 3
   },
   "file_extension": ".py",
   "mimetype": "text/x-python",
   "name": "python",
   "nbconvert_exporter": "python",
   "pygments_lexer": "ipython3",
   "version": "3.11.5"
  }
 },
 "nbformat": 4,
 "nbformat_minor": 5
}
